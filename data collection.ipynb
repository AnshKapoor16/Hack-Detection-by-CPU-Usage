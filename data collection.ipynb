{
 "cells": [
  {
   "cell_type": "code",
   "execution_count": 1,
   "id": "259bcf41",
   "metadata": {},
   "outputs": [],
   "source": [
    "import time\n",
    "import psutil\n",
    "import datetime,openpyxl"
   ]
  },
  {
   "cell_type": "code",
   "execution_count": 3,
   "id": "ec17408f",
   "metadata": {},
   "outputs": [
    {
     "name": "stdout",
     "output_type": "stream",
     "text": [
      "CPU usage:|████--------------------------|13.40%   MEM usage:|██████████████----------------|48.70%  \r"
     ]
    },
    {
     "ename": "KeyboardInterrupt",
     "evalue": "",
     "output_type": "error",
     "traceback": [
      "\u001b[1;31m---------------------------------------------------------------------------\u001b[0m",
      "\u001b[1;31mKeyboardInterrupt\u001b[0m                         Traceback (most recent call last)",
      "Input \u001b[1;32mIn [3]\u001b[0m, in \u001b[0;36m<cell line: 19>\u001b[1;34m()\u001b[0m\n\u001b[0;32m     19\u001b[0m \u001b[38;5;28;01mwhile\u001b[39;00m \u001b[38;5;28;01mTrue\u001b[39;00m:\n\u001b[0;32m     20\u001b[0m     display_usage(psutil\u001b[38;5;241m.\u001b[39mcpu_percent(),psutil\u001b[38;5;241m.\u001b[39mvirtual_memory()\u001b[38;5;241m.\u001b[39mpercent,\u001b[38;5;241m30\u001b[39m)\n\u001b[1;32m---> 21\u001b[0m     \u001b[43mtime\u001b[49m\u001b[38;5;241;43m.\u001b[39;49m\u001b[43msleep\u001b[49m\u001b[43m(\u001b[49m\u001b[38;5;241;43m0.5\u001b[39;49m\u001b[43m)\u001b[49m\n",
      "\u001b[1;31mKeyboardInterrupt\u001b[0m: "
     ]
    }
   ],
   "source": [
    "def display_usage(cpu_usage,mem_usage,bars=50):\n",
    "    cpu_percent=(cpu_usage/100.0)\n",
    "    cpu_bar='█'*int(cpu_percent*bars)+'-'*(bars-int(cpu_percent*bars))\n",
    "    mem_percent=(mem_usage/100.0)\n",
    "    mem_bar='█'*int(mem_percent*bars)+'-'*(bars-int(mem_percent*bars))\n",
    "    \n",
    "    print(f\"\\rCPU usage:|{cpu_bar}|{cpu_usage:.2f}%  \",end=\"\")\n",
    "    print(f\" MEM usage:|{mem_bar}|{mem_usage:.2f}%  \",end=\"\\r\")\n",
    "    time=datetime.datetime.now().strftime(\"%d%m%y-%H:%M:%S\")\n",
    "\n",
    "    path=r\".\\usage_reesult.xlsx\"\n",
    "    file=openpyxl.load_workbook(path)\n",
    "    sheet=file.active\n",
    "    sheet.cell(column=1,row=sheet.max_row+1,value=time)\n",
    "    sheet.cell(column=2,row=sheet.max_row,value=cpu_percent)\n",
    "    sheet.cell(column=3,row=sheet.max_row,value=mem_percent)\n",
    "    file.save(path)\n",
    "    \n",
    "while True:\n",
    "    display_usage(psutil.cpu_percent(),psutil.virtual_memory().percent,30)\n",
    "    time.sleep(0.5)\n",
    "    "
   ]
  },
  {
   "cell_type": "code",
   "execution_count": null,
   "id": "7930c5f2",
   "metadata": {},
   "outputs": [],
   "source": []
  }
 ],
 "metadata": {
  "kernelspec": {
   "display_name": "Python 3 (ipykernel)",
   "language": "python",
   "name": "python3"
  },
  "language_info": {
   "codemirror_mode": {
    "name": "ipython",
    "version": 3
   },
   "file_extension": ".py",
   "mimetype": "text/x-python",
   "name": "python",
   "nbconvert_exporter": "python",
   "pygments_lexer": "ipython3",
   "version": "3.10.4"
  }
 },
 "nbformat": 4,
 "nbformat_minor": 5
}
